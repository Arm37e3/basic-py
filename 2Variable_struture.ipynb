{
 "cells": [
  {
   "cell_type": "code",
   "execution_count": 7,
   "id": "f00535c8",
   "metadata": {},
   "outputs": [
    {
     "name": "stdout",
     "output_type": "stream",
     "text": [
      "My name  Non.\n",
      "My Last name  Ny.\n",
      "i 'am 17 years old.\n"
     ]
    }
   ],
   "source": [
    "friratname = 'Non'\n",
    "lastname = 'Ny'\n",
    "age_full = 'i \\'am 17 years old.'\n",
    "print ('My name ',friratname + '.')\n",
    "print ('My Last name ',lastname + '.')\n",
    "print (age_full)"
   ]
  },
  {
   "cell_type": "code",
   "execution_count": 13,
   "id": "252058ed",
   "metadata": {},
   "outputs": [
    {
     "name": "stdout",
     "output_type": "stream",
     "text": [
      "5\n",
      "c= 5\n"
     ]
    }
   ],
   "source": [
    "c = d = a = 5\n",
    "print (c)\n",
    "print ('c=',c )"
   ]
  },
  {
   "cell_type": "code",
   "execution_count": 15,
   "id": "bf75bb7d",
   "metadata": {},
   "outputs": [
    {
     "name": "stdout",
     "output_type": "stream",
     "text": [
      "f= 5\n",
      "d= 6\n",
      "h= 8\n"
     ]
    }
   ],
   "source": [
    "f=5;d=6;h=8\n",
    "print('f=',f)\n",
    "print('d=',d)\n",
    "print('h=',h)"
   ]
  },
  {
   "cell_type": "code",
   "execution_count": 18,
   "id": "1317cb6e",
   "metadata": {},
   "outputs": [
    {
     "name": "stdout",
     "output_type": "stream",
     "text": [
      "Hoog\n"
     ]
    }
   ],
   "source": [
    "_a =5\n",
    "a1 =5\n",
    "lastname = 'Hoog'\n",
    "print (lastname)"
   ]
  },
  {
   "cell_type": "code",
   "execution_count": 23,
   "id": "2280d9bf",
   "metadata": {},
   "outputs": [
    {
     "data": {
      "text/plain": [
       "bool"
      ]
     },
     "execution_count": 23,
     "metadata": {},
     "output_type": "execute_result"
    }
   ],
   "source": [
    "a = False\n",
    "type (a)"
   ]
  },
  {
   "cell_type": "code",
   "execution_count": 39,
   "id": "b8f13c44",
   "metadata": {},
   "outputs": [
    {
     "data": {
      "text/plain": [
       "' wold'"
      ]
     },
     "execution_count": 39,
     "metadata": {},
     "output_type": "execute_result"
    }
   ],
   "source": [
    "charl = \"hello wold\"\n",
    "type (charl)\n",
    "charl[3]\n",
    "charl[5:]\n"
   ]
  },
  {
   "cell_type": "code",
   "execution_count": 42,
   "id": "9e345a34",
   "metadata": {},
   "outputs": [
    {
     "data": {
      "text/plain": [
       "'stun'"
      ]
     },
     "execution_count": 42,
     "metadata": {},
     "output_type": "execute_result"
    }
   ],
   "source": [
    "charl2 = \"stamp\"\n",
    "charl2.replace('tamp','tun')"
   ]
  },
  {
   "cell_type": "code",
   "execution_count": 44,
   "id": "845d5c15",
   "metadata": {},
   "outputs": [
    {
     "data": {
      "text/plain": [
       "False"
      ]
     },
     "execution_count": 44,
     "metadata": {},
     "output_type": "execute_result"
    }
   ],
   "source": [
    "charl3 = 'egheoghpewtuhet9685p389thefogffd'\n",
    "len(charl3)\n",
    "'fon'in charl3\n"
   ]
  },
  {
   "cell_type": "code",
   "execution_count": 49,
   "id": "e72c09a9",
   "metadata": {},
   "outputs": [
    {
     "name": "stdout",
     "output_type": "stream",
     "text": [
      "2565\n"
     ]
    }
   ],
   "source": [
    "charl4 = '31-ตุลาคม-2565'\n",
    "day = charl4.split('-')\n",
    "print(day[2])"
   ]
  },
  {
   "cell_type": "code",
   "execution_count": 1,
   "id": "58abe5b2",
   "metadata": {},
   "outputs": [
    {
     "data": {
      "text/plain": [
       "[1, 2, 3, 8, 5, 6]"
      ]
     },
     "execution_count": 1,
     "metadata": {},
     "output_type": "execute_result"
    }
   ],
   "source": [
    "#list\n",
    "list1 = [1,2,3,4,5]\n",
    "type (list1)\n",
    "list1[3] = 8\n",
    "list1[3]\n",
    "list1.append(6)\n",
    "list1"
   ]
  },
  {
   "cell_type": "code",
   "execution_count": 2,
   "id": "58bd0608",
   "metadata": {},
   "outputs": [
    {
     "data": {
      "text/plain": [
       "['a', 'b', 'c', 'd', 'e']"
      ]
     },
     "execution_count": 2,
     "metadata": {},
     "output_type": "execute_result"
    }
   ],
   "source": [
    "list2 =['a','b','c','d','e']\n",
    "list2 \n"
   ]
  },
  {
   "cell_type": "code",
   "execution_count": 3,
   "id": "7694a627",
   "metadata": {},
   "outputs": [
    {
     "data": {
      "text/plain": [
       "[1, 2, 3, 8, 5, 6, 'a', 'b', 'c', 'd', 'e']"
      ]
     },
     "execution_count": 3,
     "metadata": {},
     "output_type": "execute_result"
    }
   ],
   "source": [
    "list1.extend(list2)\n",
    "list1"
   ]
  },
  {
   "cell_type": "code",
   "execution_count": 4,
   "id": "5f7a1ae9",
   "metadata": {},
   "outputs": [
    {
     "data": {
      "text/plain": [
       "[1, 2, 3, 8, 6, 'a', 'b', 'c', 'd', 'e']"
      ]
     },
     "execution_count": 4,
     "metadata": {},
     "output_type": "execute_result"
    }
   ],
   "source": [
    "del list1[4]\n",
    "list1"
   ]
  },
  {
   "cell_type": "code",
   "execution_count": 79,
   "id": "da91fa8f",
   "metadata": {},
   "outputs": [
    {
     "data": {
      "text/plain": [
       "[]"
      ]
     },
     "execution_count": 79,
     "metadata": {},
     "output_type": "execute_result"
    }
   ],
   "source": [
    "list1.clear()\n",
    "list1"
   ]
  }
 ],
 "metadata": {
  "kernelspec": {
   "display_name": "Python 3 (ipykernel)",
   "language": "python",
   "name": "python3"
  },
  "language_info": {
   "codemirror_mode": {
    "name": "ipython",
    "version": 3
   },
   "file_extension": ".py",
   "mimetype": "text/x-python",
   "name": "python",
   "nbconvert_exporter": "python",
   "pygments_lexer": "ipython3",
   "version": "3.9.13"
  }
 },
 "nbformat": 4,
 "nbformat_minor": 5
}
