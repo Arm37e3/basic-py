{
 "cells": [
  {
   "cell_type": "code",
   "execution_count": 1,
   "id": "33d006a0",
   "metadata": {},
   "outputs": [
    {
     "name": "stdout",
     "output_type": "stream",
     "text": [
      "[0, 1, 2, 'a', 'b', 'c']\n"
     ]
    },
    {
     "data": {
      "text/plain": [
       "list"
      ]
     },
     "execution_count": 1,
     "metadata": {},
     "output_type": "execute_result"
    }
   ],
   "source": [
    "#40\n",
    "list1 = [0,1,2, 'a', 'b','c']\n",
    "print (list1)\n",
    "type(list1)"
   ]
  },
  {
   "cell_type": "code",
   "execution_count": 2,
   "id": "70cea371",
   "metadata": {},
   "outputs": [
    {
     "name": "stdout",
     "output_type": "stream",
     "text": [
      "2\n"
     ]
    }
   ],
   "source": [
    "#41\n",
    "list1 = [0,1,2, 'a', 'b','c']\n",
    "print (list1[2])"
   ]
  },
  {
   "cell_type": "code",
   "execution_count": 3,
   "id": "a557b041",
   "metadata": {},
   "outputs": [
    {
     "name": "stdout",
     "output_type": "stream",
     "text": [
      "a\n"
     ]
    }
   ],
   "source": [
    "#42\n",
    "list1 = [0,1,2, 'a', 'b','c']\n",
    "print (list1[-3])"
   ]
  },
  {
   "cell_type": "code",
   "execution_count": 4,
   "id": "e422df6f",
   "metadata": {},
   "outputs": [
    {
     "name": "stdout",
     "output_type": "stream",
     "text": [
      "0\n"
     ]
    }
   ],
   "source": [
    "#43\n",
    "list1 = [0,1,2, 'a', 'b','c']\n",
    "print (list1[0])"
   ]
  },
  {
   "cell_type": "code",
   "execution_count": 5,
   "id": "2d02e81f",
   "metadata": {},
   "outputs": [
    {
     "name": "stdout",
     "output_type": "stream",
     "text": [
      "b\n"
     ]
    }
   ],
   "source": [
    "#44\n",
    "list1 = [0,1,2, 'a', 'b','c']\n",
    "print (list1[-2])"
   ]
  },
  {
   "cell_type": "code",
   "execution_count": 6,
   "id": "a0d2d1e9",
   "metadata": {},
   "outputs": [
    {
     "name": "stdout",
     "output_type": "stream",
     "text": [
      "[2, 'a']\n"
     ]
    }
   ],
   "source": [
    "#45\n",
    "list1 = [0,1,2, 'a', 'b','c']\n",
    "print (list1[2:4])"
   ]
  },
  {
   "cell_type": "code",
   "execution_count": 7,
   "id": "8edb96bb",
   "metadata": {},
   "outputs": [
    {
     "name": "stdout",
     "output_type": "stream",
     "text": [
      "[1, 2, 'a', 'b']\n"
     ]
    }
   ],
   "source": [
    "#46\n",
    "list1 = [0,1,2, 'a', 'b','c']\n",
    "print (list1[1:-1])"
   ]
  },
  {
   "cell_type": "code",
   "execution_count": 8,
   "id": "ec8b54fb",
   "metadata": {},
   "outputs": [
    {
     "name": "stdout",
     "output_type": "stream",
     "text": [
      "[1, 2, 'a', 'b']\n"
     ]
    }
   ],
   "source": [
    "#47\n",
    "list1 = [0,1,2, 'a', 'b','c']\n",
    "print (list1[1:5])"
   ]
  },
  {
   "cell_type": "code",
   "execution_count": 9,
   "id": "b7489fa1",
   "metadata": {},
   "outputs": [
    {
     "name": "stdout",
     "output_type": "stream",
     "text": [
      "['a', 'b', 'c']\n"
     ]
    }
   ],
   "source": [
    "#48\n",
    "list1 = [0,1,2, 'a', 'b','c']\n",
    "print (list1[3:])"
   ]
  },
  {
   "cell_type": "code",
   "execution_count": 10,
   "id": "c0e44986",
   "metadata": {},
   "outputs": [
    {
     "name": "stdout",
     "output_type": "stream",
     "text": [
      "[0, 1, 2]\n"
     ]
    }
   ],
   "source": [
    "#49\n",
    "list1 = [0,1,2, 'a', 'b','c']\n",
    "print (list1[:3])"
   ]
  },
  {
   "cell_type": "code",
   "execution_count": 11,
   "id": "eda2ad1c",
   "metadata": {},
   "outputs": [
    {
     "name": "stdout",
     "output_type": "stream",
     "text": [
      "['ant', 'bird', 'cat', 'duck', 'eagle']\n"
     ]
    }
   ],
   "source": [
    "#50\n",
    "list1 = ['ant', 'bird', 'cat', 'dog', 'eagle']\n",
    "list1[3] = 'duck'\n",
    "print (list1)"
   ]
  },
  {
   "cell_type": "code",
   "execution_count": 12,
   "id": "c4faae53",
   "metadata": {},
   "outputs": [
    {
     "name": "stdout",
     "output_type": "stream",
     "text": [
      "['ape', 'bird', 'cat', 'dog', 'eagle']\n"
     ]
    }
   ],
   "source": [
    "#51\n",
    "list1 = ['ant', 'bird', 'cat', 'dog', 'eagle']\n",
    "list1[-5] = 'ape'\n",
    "print (list1)"
   ]
  },
  {
   "cell_type": "code",
   "execution_count": 13,
   "id": "6e73f597",
   "metadata": {},
   "outputs": [
    {
     "name": "stdout",
     "output_type": "stream",
     "text": [
      "['ant', 'bird', 'cat', 'dog', 'eagle', 'fish']\n"
     ]
    }
   ],
   "source": [
    "#52\n",
    "list1 = ['ant', 'bird', 'cat', 'dog', 'eagle']\n",
    "list1.append('fish')\n",
    "print (list1)"
   ]
  },
  {
   "cell_type": "code",
   "execution_count": 24,
   "id": "b03ce3c3",
   "metadata": {},
   "outputs": [
    {
     "name": "stdout",
     "output_type": "stream",
     "text": [
      "please insert fisrt element: 'a', 'b', 'c'\n",
      "please insert second element: 'd'\n",
      "please insert third element: 'z'\n",
      "[\"'a', 'b', 'c'\", \"'d'\", \"'z'\"]\n"
     ]
    }
   ],
   "source": [
    "#53\n",
    "list2 = []\n",
    "str1 = input('please insert fisrt element: ')\n",
    "str2 = input('please insert second element: ')\n",
    "str3 = input('please insert third element: ')\n",
    "list2.append(str1)\n",
    "list2.append(str2)\n",
    "list2.append(str3)\n",
    "print(list2)"
   ]
  },
  {
   "cell_type": "code",
   "execution_count": 2,
   "id": "9820bf46",
   "metadata": {},
   "outputs": [
    {
     "name": "stdout",
     "output_type": "stream",
     "text": [
      "['apple', 'banana', 'cherry', 'eggfruit']\n"
     ]
    }
   ],
   "source": [
    "#54\n",
    "list3 = ['apple', 'cherry', 'eggfruit']\n",
    "list3.insert(1, 'banana')\n",
    "print(list3)"
   ]
  },
  {
   "cell_type": "code",
   "execution_count": 1,
   "id": "9aef8879",
   "metadata": {},
   "outputs": [
    {
     "name": "stdout",
     "output_type": "stream",
     "text": [
      "['apple', 'banana', 'kiwi', 'cherry', 'eggfruit']\n"
     ]
    }
   ],
   "source": [
    "#55\n",
    "list3 = ['apple', 'banana', 'cherry', 'eggfruit']\n",
    "list3.insert(-2, 'kiwi')\n",
    "print(list3)"
   ]
  },
  {
   "cell_type": "code",
   "execution_count": 3,
   "id": "b33a4d52",
   "metadata": {},
   "outputs": [
    {
     "name": "stdout",
     "output_type": "stream",
     "text": [
      "[0, 1, 2, 3, 4]\n"
     ]
    }
   ],
   "source": [
    "#56\n",
    "list4 =[0, 4, 2, 3, 1]\n",
    "list4.sort()\n",
    "print (list4)\n"
   ]
  },
  {
   "cell_type": "code",
   "execution_count": 5,
   "id": "50882bd4",
   "metadata": {},
   "outputs": [
    {
     "name": "stdout",
     "output_type": "stream",
     "text": [
      "[4, 3, 2, 1, 0]\n"
     ]
    }
   ],
   "source": [
    "#57\n",
    "list4 =[0, 4, 2, 3, 1]\n",
    "list4.sort(reverse=True)\n",
    "print (list4)"
   ]
  },
  {
   "cell_type": "code",
   "execution_count": 6,
   "id": "f89ba519",
   "metadata": {},
   "outputs": [
    {
     "name": "stdout",
     "output_type": "stream",
     "text": [
      "[0, 1, 2, 3, 4]\n"
     ]
    }
   ],
   "source": [
    "#58\n",
    "list4 =[0, 4, 2, 3, 1]\n",
    "sorted_list4 = sorted(list4)\n",
    "print (sorted_list4)"
   ]
  },
  {
   "cell_type": "code",
   "execution_count": 7,
   "id": "c9bbbfe8",
   "metadata": {},
   "outputs": [
    {
     "name": "stdout",
     "output_type": "stream",
     "text": [
      "[4, 3, 2, 1, 0]\n"
     ]
    }
   ],
   "source": [
    "#59\n",
    "list4 =[0, 4, 2, 3, 1]\n",
    "sorted_list4 = sorted(list4, reverse=True)\n",
    "print (sorted_list4)"
   ]
  },
  {
   "cell_type": "code",
   "execution_count": 11,
   "id": "e77badf8",
   "metadata": {},
   "outputs": [
    {
     "name": "stdout",
     "output_type": "stream",
     "text": [
      "['a', 'b', 'c', 'd', 'e']\n"
     ]
    }
   ],
   "source": [
    "#60\n",
    "list5 = ['d', 'a', 'c', 'b', 'e']\n",
    "list5.sort()\n",
    "print (list5)"
   ]
  },
  {
   "cell_type": "code",
   "execution_count": 12,
   "id": "35ee2b6d",
   "metadata": {},
   "outputs": [
    {
     "name": "stdout",
     "output_type": "stream",
     "text": [
      "['e', 'd', 'c', 'b', 'a']\n"
     ]
    }
   ],
   "source": [
    "#61\n",
    "list5 = ['d', 'a', 'c', 'b', 'e']\n",
    "sorted_list5 = sorted(list5, reverse=True)\n",
    "print(sorted_list5)"
   ]
  },
  {
   "cell_type": "code",
   "execution_count": 14,
   "id": "d34926a2",
   "metadata": {},
   "outputs": [
    {
     "name": "stdout",
     "output_type": "stream",
     "text": [
      "['a', 'b', 'c', 0, 1, 2]\n",
      "[0, 1, 2]\n"
     ]
    }
   ],
   "source": [
    "#62\n",
    "list1 = ['a', 'b', 'c']\n",
    "list2 = [0,1,2]\n",
    "list1.extend(list2)\n",
    "print(list1)\n",
    "print(list2)"
   ]
  },
  {
   "cell_type": "code",
   "execution_count": 15,
   "id": "b92935ad",
   "metadata": {},
   "outputs": [
    {
     "name": "stdout",
     "output_type": "stream",
     "text": [
      "['a', 'b', 'c']\n",
      "[0, 1, 2]\n",
      "['a', 'b', 'c', 0, 1, 2]\n"
     ]
    }
   ],
   "source": [
    "#63\n",
    "list1 = ['a', 'b', 'c']\n",
    "list2 = [0,1,2]\n",
    "list3 = list1+list2\n",
    "print(list1)\n",
    "print(list2)\n",
    "print(list3)"
   ]
  },
  {
   "cell_type": "code",
   "execution_count": 17,
   "id": "bc29624b",
   "metadata": {},
   "outputs": [
    {
     "name": "stdout",
     "output_type": "stream",
     "text": [
      "[1, 3, 1, 2, 3]\n"
     ]
    }
   ],
   "source": [
    "#64\n",
    "list1 = [1,2,3,1,2,3]\n",
    "del list1[1]\n",
    "print(list1)"
   ]
  },
  {
   "cell_type": "code",
   "execution_count": 18,
   "id": "1abc3bf6",
   "metadata": {},
   "outputs": [
    {
     "name": "stdout",
     "output_type": "stream",
     "text": [
      "[1, 2, 1, 2]\n"
     ]
    }
   ],
   "source": [
    "#65\n",
    "list1 = [1,2,3,1,2,3]\n",
    "del list1[-1]\n",
    "del list1[2]\n",
    "print(list1)"
   ]
  },
  {
   "cell_type": "code",
   "execution_count": 19,
   "id": "d04b1251",
   "metadata": {},
   "outputs": [
    {
     "name": "stdout",
     "output_type": "stream",
     "text": [
      "[2, 3, 2, 3]\n"
     ]
    }
   ],
   "source": [
    "#66\n",
    "list1 = [1,2,3,1,2,3]\n",
    "list1.remove(1)\n",
    "list1.remove(1)\n",
    "print(list1)"
   ]
  },
  {
   "cell_type": "code",
   "execution_count": 20,
   "id": "be7e2256",
   "metadata": {},
   "outputs": [
    {
     "name": "stdout",
     "output_type": "stream",
     "text": [
      "[]\n"
     ]
    }
   ],
   "source": [
    "#67\n",
    "list1 = [1,2,3,1,2,3]\n",
    "list1.clear()\n",
    "print(list1)"
   ]
  },
  {
   "cell_type": "code",
   "execution_count": 22,
   "id": "225d33fb",
   "metadata": {},
   "outputs": [
    {
     "name": "stdout",
     "output_type": "stream",
     "text": [
      "6\n"
     ]
    }
   ],
   "source": [
    "#68\n",
    "list1 = [1,2,3, 'a', 'b', 'c']\n",
    "print(len(list1))"
   ]
  },
  {
   "cell_type": "code",
   "execution_count": 23,
   "id": "d8d51bc0",
   "metadata": {},
   "outputs": [
    {
     "name": "stdout",
     "output_type": "stream",
     "text": [
      "please insert numericl: 4\n",
      "True\n"
     ]
    }
   ],
   "source": [
    "#69\n",
    "list1 = [1,2,3,4,5]\n",
    "numericl = int (input('please insert numericl: '))\n",
    "print (numericl in list1)"
   ]
  }
 ],
 "metadata": {
  "kernelspec": {
   "display_name": "Python 3 (ipykernel)",
   "language": "python",
   "name": "python3"
  },
  "language_info": {
   "codemirror_mode": {
    "name": "ipython",
    "version": 3
   },
   "file_extension": ".py",
   "mimetype": "text/x-python",
   "name": "python",
   "nbconvert_exporter": "python",
   "pygments_lexer": "ipython3",
   "version": "3.9.13"
  }
 },
 "nbformat": 4,
 "nbformat_minor": 5
}
