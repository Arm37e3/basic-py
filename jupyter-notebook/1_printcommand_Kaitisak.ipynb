{
 "cells": [
  {
   "cell_type": "code",
   "execution_count": 9,
   "id": "788b08ff",
   "metadata": {},
   "outputs": [
    {
     "name": "stdout",
     "output_type": "stream",
     "text": [
      "hello word\n",
      "5+5\n",
      "print(\"hello word\")print('5+5') \n"
     ]
    }
   ],
   "source": [
    "print(\"hello word\")\n",
    "print('5+5')\n",
    "print('''print(\"hello word\")print('5+5') ''')"
   ]
  },
  {
   "cell_type": "code",
   "execution_count": 18,
   "id": "79117b45",
   "metadata": {},
   "outputs": [
    {
     "name": "stdout",
     "output_type": "stream",
     "text": [
      "does't door\n"
     ]
    }
   ],
   "source": [
    "print ('does\\'t door')"
   ]
  },
  {
   "cell_type": "code",
   "execution_count": 13,
   "id": "8d9fe43a",
   "metadata": {},
   "outputs": [
    {
     "name": "stdout",
     "output_type": "stream",
     "text": [
      "it't door\n"
     ]
    }
   ],
   "source": [
    "print (\"it't door\")"
   ]
  },
  {
   "cell_type": "code",
   "execution_count": 25,
   "id": "3f11b59f",
   "metadata": {},
   "outputs": [
    {
     "name": "stdout",
     "output_type": "stream",
     "text": [
      "non siad \"python very east\"\n"
     ]
    }
   ],
   "source": [
    "print (\"non siad \\\"python very east\\\"\")"
   ]
  },
  {
   "cell_type": "code",
   "execution_count": 40,
   "id": "aab8506d",
   "metadata": {},
   "outputs": [
    {
     "name": "stdout",
     "output_type": "stream",
     "text": [
      "/\\\n"
     ]
    }
   ],
   "source": [
    "print ('/\\\\')"
   ]
  },
  {
   "cell_type": "code",
   "execution_count": 42,
   "id": "8e0548dc",
   "metadata": {},
   "outputs": [
    {
     "name": "stdout",
     "output_type": "stream",
     "text": [
      "/\\/\\/\\\n"
     ]
    }
   ],
   "source": [
    "print ('/\\/\\/\\\\')"
   ]
  },
  {
   "cell_type": "code",
   "execution_count": 44,
   "id": "6c223403",
   "metadata": {},
   "outputs": [
    {
     "name": "stdout",
     "output_type": "stream",
     "text": [
      "8\n"
     ]
    }
   ],
   "source": [
    "print (8)"
   ]
  },
  {
   "cell_type": "code",
   "execution_count": 58,
   "id": "d87930fd",
   "metadata": {},
   "outputs": [
    {
     "name": "stdout",
     "output_type": "stream",
     "text": [
      "วันนี้มีเงิน 3 บาท\n",
      "เมื่อวาน 99999.000000 bat\n",
      "เมื่อวาน 99999.00 bat\n",
      "เมื่อวาน 7.0 bat\n",
      "วันนี้มีเงิน 240 บาท ชื้อไก่ต้ม 100.48 บาท เหลือเงิน 140.45 บาท \n"
     ]
    }
   ],
   "source": [
    "print('วันนี้มีเงิน %d บาท'%3)\n",
    "print ('เมื่อวาน %f bat'%99999)\n",
    "print ('เมื่อวาน %.2f bat'%99999)\n",
    "print ('เมื่อวาน %s bat'%7.00)\n",
    "\n",
    "print ('วันนี้มีเงิน %d บาท ชื้อไก่ต้ม %.2f บาท เหลือเงิน %s บาท ' %(240,100.48,140.45))"
   ]
  },
  {
   "cell_type": "code",
   "execution_count": 59,
   "id": "916ccd64",
   "metadata": {},
   "outputs": [
    {
     "name": "stdout",
     "output_type": "stream",
     "text": [
      "l Love Y 3000\n"
     ]
    }
   ],
   "source": [
    "print ('l Love Y',3000)"
   ]
  },
  {
   "cell_type": "code",
   "execution_count": 61,
   "id": "f177d0cc",
   "metadata": {},
   "outputs": [
    {
     "name": "stdout",
     "output_type": "stream",
     "text": [
      "5+7 12\n"
     ]
    }
   ],
   "source": [
    "print('5+7=',5+7)"
   ]
  },
  {
   "cell_type": "code",
   "execution_count": 68,
   "id": "b570a757",
   "metadata": {},
   "outputs": [
    {
     "name": "stdout",
     "output_type": "stream",
     "text": [
      "I love Y300\n"
     ]
    }
   ],
   "source": [
    "print ('I love Y' +str(300))\n",
    "\n",
    "### str()"
   ]
  },
  {
   "cell_type": "code",
   "execution_count": 2,
   "id": "98f3cc75",
   "metadata": {},
   "outputs": [],
   "source": [
    "# Print String\n",
    "# Print Numeric\n",
    "# Print String + Numeric\n",
    "# Print String\n",
    "# Print Numeric\n",
    "# Print String + Numeric\n",
    "# Print String\n",
    "# Print Numeric\n",
    "# Print String + Numeric"
   ]
  },
  {
   "cell_type": "code",
   "execution_count": 3,
   "id": "6535426d",
   "metadata": {},
   "outputs": [
    {
     "name": "stdout",
     "output_type": "stream",
     "text": [
      "\n",
      "print String \n",
      "print Numeric\n",
      "print String + Numeric\n",
      "print String + Numeric \n",
      "      \n"
     ]
    }
   ],
   "source": [
    "print(\"\"\"\n",
    "print String \n",
    "print Numeric\n",
    "print String + Numeric\n",
    "print String + Numeric \n",
    "      \"\"\")"
   ]
  }
 ],
 "metadata": {
  "kernelspec": {
   "display_name": "Python 3 (ipykernel)",
   "language": "python",
   "name": "python3"
  },
  "language_info": {
   "codemirror_mode": {
    "name": "ipython",
    "version": 3
   },
   "file_extension": ".py",
   "mimetype": "text/x-python",
   "name": "python",
   "nbconvert_exporter": "python",
   "pygments_lexer": "ipython3",
   "version": "3.9.13"
  }
 },
 "nbformat": 4,
 "nbformat_minor": 5
}
