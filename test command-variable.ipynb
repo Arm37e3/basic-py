{
 "cells": [
  {
   "cell_type": "code",
   "execution_count": 30,
   "id": "eba0ac70",
   "metadata": {},
   "outputs": [
    {
     "name": "stdout",
     "output_type": "stream",
     "text": [
      "Hello\n",
      "hello World\n"
     ]
    }
   ],
   "source": [
    "#1\n",
    "print ('Hello')\n",
    "#2\n",
    "print ('hello World')"
   ]
  },
  {
   "cell_type": "code",
   "execution_count": 17,
   "id": "a1faa9ce",
   "metadata": {
    "scrolled": true
   },
   "outputs": [
    {
     "name": "stdout",
     "output_type": "stream",
     "text": [
      "hello_python\n",
      "Merry X'Mas\n",
      "I want to ask you \"Why don't you drive to work ?\"\n",
      "\"I don't have a car\"\n",
      "You got a new job !? That's so exciting\n",
      "สวัสดีวันจันทร์\n",
      "ความแตกต่างระหว่างคนเก่งกับคนไม่เก่ง คือ \"การใช้เวลาว่างให้เป็นประโยชน์\"\n",
      "/\\/\\/\\\n"
     ]
    }
   ],
   "source": [
    "#3\n",
    "print ('hello_python')\n",
    "#4\n",
    "print (\"Merry X'Mas\")\n",
    "#5\n",
    "print (\"I want to ask you \\\"Why don't you drive to work ?\\\"\")\n",
    "#6\n",
    "print (\"\\\"I don't have a car\\\"\")\n",
    "#7\n",
    "print (\"You got a new job !? That's so exciting\")\n",
    "#8\n",
    "print ('สวัสดีวันจันทร์')\n",
    "#9\n",
    "print (\"ความแตกต่างระหว่างคนเก่งกับคนไม่เก่ง คือ \\\"การใช้เวลาว่างให้เป็นประโยชน์\\\"\")\n",
    "#10\n",
    "print (\"/\\/\\/\\\\\")"
   ]
  },
  {
   "cell_type": "code",
   "execution_count": 28,
   "id": "14c95d0d",
   "metadata": {
    "scrolled": false
   },
   "outputs": [
    {
     "name": "stdout",
     "output_type": "stream",
     "text": [
      "a\n",
      "an\n",
      "ant\n",
      "   *\n",
      "*  *  *\n",
      "   *\n"
     ]
    }
   ],
   "source": [
    "#11\n",
    "print ('''a\n",
    "an\n",
    "ant''')\n",
    "\n",
    "#12\n",
    "print (\"\"\"   *\n",
    "*  *  *\n",
    "   *\"\"\")"
   ]
  },
  {
   "cell_type": "code",
   "execution_count": 29,
   "id": "18e27fc2",
   "metadata": {},
   "outputs": [
    {
     "name": "stdout",
     "output_type": "stream",
     "text": [
      "*     +       *\n",
      "+     *       +\n",
      "*     +       *\n"
     ]
    }
   ],
   "source": [
    "#13\n",
    "print ('''*     +       *\n",
    "+     *       +\n",
    "*     +       *''')"
   ]
  },
  {
   "cell_type": "code",
   "execution_count": 32,
   "id": "8fd946a9",
   "metadata": {},
   "outputs": [
    {
     "name": "stdout",
     "output_type": "stream",
     "text": [
      "Just because something\n",
      "thinks differently from you,\n",
      "does that mean it's not thinking ?\n"
     ]
    }
   ],
   "source": [
    "#14\n",
    "print(\"\"\"Just because something\n",
    "thinks differently from you,\n",
    "does that mean it's not thinking ?\"\"\")"
   ]
  },
  {
   "cell_type": "code",
   "execution_count": 48,
   "id": "b1967af6",
   "metadata": {},
   "outputs": [
    {
     "name": "stdout",
     "output_type": "stream",
     "text": [
      "\\     /  \n",
      "   x   \n",
      "/     \\\n"
     ]
    }
   ],
   "source": [
    "#15\n",
    "print ('''\\\\     /  \n",
    "   x   \n",
    "/     \\\\''')"
   ]
  },
  {
   "cell_type": "code",
   "execution_count": 31,
   "id": "6bc8d2dc",
   "metadata": {},
   "outputs": [
    {
     "name": "stdout",
     "output_type": "stream",
     "text": [
      "25\n",
      "100.0\n",
      "3.141592653589793\n"
     ]
    }
   ],
   "source": [
    "#16\n",
    "print(25)\n",
    "#17\n",
    "print(100.000000)\n",
    "#18\n",
    "print(3.141592653589793)\n"
   ]
  },
  {
   "cell_type": "code",
   "execution_count": 53,
   "id": "ef767acb",
   "metadata": {},
   "outputs": [
    {
     "name": "stdout",
     "output_type": "stream",
     "text": [
      "2\n"
     ]
    }
   ],
   "source": [
    "#19\n",
    "a=2\n",
    "print (a)"
   ]
  },
  {
   "cell_type": "code",
   "execution_count": 54,
   "id": "e46215b5",
   "metadata": {},
   "outputs": [
    {
     "name": "stdout",
     "output_type": "stream",
     "text": [
      "12.5\n"
     ]
    }
   ],
   "source": [
    "#20\n",
    "a=12.5\n",
    "print (a)"
   ]
  },
  {
   "cell_type": "code",
   "execution_count": 59,
   "id": "34226279",
   "metadata": {},
   "outputs": [
    {
     "name": "stdout",
     "output_type": "stream",
     "text": [
      "2 x 3 = 6\n"
     ]
    }
   ],
   "source": [
    "#21\n",
    "a=2\n",
    "b=3\n",
    "print ('2 x 3 =',a * b)"
   ]
  },
  {
   "cell_type": "code",
   "execution_count": 4,
   "id": "7908f5fb",
   "metadata": {},
   "outputs": [
    {
     "name": "stdout",
     "output_type": "stream",
     "text": [
      "2 + 3 = 3 + 2 = 5\n"
     ]
    }
   ],
   "source": [
    "#22\n",
    "a=2\n",
    "b=3\n",
    "print (a, '+', b, '=', b, '+', a, '=', a+b)"
   ]
  },
  {
   "cell_type": "code",
   "execution_count": 7,
   "id": "1a6103f7",
   "metadata": {},
   "outputs": [
    {
     "name": "stdout",
     "output_type": "stream",
     "text": [
      "2*(3 + 5) = 2*3 + 2*5\n"
     ]
    }
   ],
   "source": [
    "#23\n",
    "a=2\n",
    "b=3\n",
    "c=5\n",
    "\n",
    "print(\"%d*(%d + %d) = %d*%d + %d*%d\" %(a, b, c, a, b, a, c))"
   ]
  },
  {
   "cell_type": "code",
   "execution_count": 8,
   "id": "4edaf052",
   "metadata": {},
   "outputs": [
    {
     "name": "stdout",
     "output_type": "stream",
     "text": [
      "2 + 2 = 4.9000 \n"
     ]
    }
   ],
   "source": [
    "#24 print  2.4+2.5 = 4.9000\n",
    "a = 2.4\n",
    "b = 2.5\n",
    "\n",
    "print (\"%.1d + %.1d = %.4f \" %(a, b, a+b))"
   ]
  },
  {
   "cell_type": "code",
   "execution_count": 20,
   "id": "7be4a7ab",
   "metadata": {},
   "outputs": [
    {
     "name": "stdout",
     "output_type": "stream",
     "text": [
      "5.0 - 2.00 = 3.0000 \n"
     ]
    }
   ],
   "source": [
    "#25 print 5.00-2.00 = 3.0000\n",
    "a = 5\n",
    "b = 2\n",
    "print (\"%.1f - %.2f = %.4f \" %(a, b, a-b))"
   ]
  },
  {
   "cell_type": "code",
   "execution_count": 17,
   "id": "3192cc3a",
   "metadata": {},
   "outputs": [
    {
     "name": "stdout",
     "output_type": "stream",
     "text": [
      "ฉันเกิดวันที่ 25 ธันวาคม\n"
     ]
    }
   ],
   "source": [
    "#26 print ฉันเกิดวันที่ 25 ธันวาคม\n",
    "birthday = 25\n",
    "print (\"ฉันเกิดวันที่ %s ธันวาคม\"%(birthday))"
   ]
  },
  {
   "cell_type": "code",
   "execution_count": 24,
   "id": "80fc1836",
   "metadata": {},
   "outputs": [
    {
     "name": "stdout",
     "output_type": "stream",
     "text": [
      "5 เท่าของ 100 มีค่าเท่ากับ 500 \n"
     ]
    }
   ],
   "source": [
    "#27 print 5 เท่าของ 100 มีค่าเท่ากับ 500\n",
    "a = 5\n",
    "b = 100\n",
    "print ('%d เท่าของ %d มีค่าเท่ากับ %d ' %(a, b, a*b))"
   ]
  },
  {
   "cell_type": "code",
   "execution_count": 27,
   "id": "1d20ca78",
   "metadata": {},
   "outputs": [
    {
     "name": "stdout",
     "output_type": "stream",
     "text": [
      "เขามีเงินเยอะกว่าฉัน 3.50 บาท\n"
     ]
    }
   ],
   "source": [
    "#28 เขามีเงินเยอะกว่าฉัน 3.50 บาท\n",
    "a = 3.5\n",
    "print ('เขามีเงินเยอะกว่าฉัน %.2f บาท'%(a))"
   ]
  },
  {
   "cell_type": "code",
   "execution_count": 28,
   "id": "d11b401b",
   "metadata": {},
   "outputs": [
    {
     "name": "stdout",
     "output_type": "stream",
     "text": [
      "ฉันได้กำไร 5 %\n"
     ]
    }
   ],
   "source": [
    "#29 print ฉันได้กำไร 5 %\n",
    "a = 5\n",
    "print (\"ฉันได้กำไร\",a,'%')"
   ]
  },
  {
   "cell_type": "code",
   "execution_count": 29,
   "id": "9f8a28cf",
   "metadata": {},
   "outputs": [
    {
     "name": "stdout",
     "output_type": "stream",
     "text": [
      "เมื่อวานฉันขาดทุน 2 % วันนี้ฉันได้กำไร 3.50 %\n"
     ]
    }
   ],
   "source": [
    "#30 print มื่อวานฉันขาดทุน 2 % วันนี้ฉันได้กำไร 3.50 %\n",
    "a=2\n",
    "b=3.5\n",
    "print('เมื่อวานฉันขาดทุน %d %% วันนี้ฉันได้กำไร %.2f %%' %(a, b))\n"
   ]
  }
 ],
 "metadata": {
  "kernelspec": {
   "display_name": "Python 3 (ipykernel)",
   "language": "python",
   "name": "python3"
  },
  "language_info": {
   "codemirror_mode": {
    "name": "ipython",
    "version": 3
   },
   "file_extension": ".py",
   "mimetype": "text/x-python",
   "name": "python",
   "nbconvert_exporter": "python",
   "pygments_lexer": "ipython3",
   "version": "3.9.13"
  }
 },
 "nbformat": 4,
 "nbformat_minor": 5
}
